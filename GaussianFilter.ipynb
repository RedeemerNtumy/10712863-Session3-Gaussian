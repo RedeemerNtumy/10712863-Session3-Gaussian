{
  "nbformat": 4,
  "nbformat_minor": 0,
  "metadata": {
    "colab": {
      "name": "GaussianFilter.ipynb",
      "provenance": [],
      "collapsed_sections": []
    },
    "kernelspec": {
      "display_name": "Python 3",
      "name": "python3"
    }
  },
  "cells": [
    {
      "cell_type": "code",
      "metadata": {
        "colab": {
          "base_uri": "https://localhost:8080/"
        },
        "id": "YlvaL1ujcM99",
        "outputId": "efa3d359-a56f-4e7b-d564-49cf7d27b451"
      },
      "source": [
        "import numpy as np\n",
        "import math\n",
        "size=str(input(\"Please input the size of the mask Eg:5x5,3x3, other sizes? :\" ))\n",
        "size=size[0]\n",
        "size=int(size)\n",
        "mask =  np.fromfunction(lambda x, y: (1/(2*math.pi*1**2)) * math.e **((-1*((x-(size-1)/2)**2+(y-(size-1)/2)**2))/(2*1**2)),(size, size))\n",
        "print(\"THIS IS THE MASK THAT WOULD BE APPLIED TO THE IMAGE\")\n",
        "mask_k=mask / np.sum(mask)\n",
        "print(np.array(mask_k))\n",
        "Image=str(input(\"Please specify the size of the Image :\"))\n",
        "yes=\"10x10\"\n",
        "Row=Image.split(\"x\")[0]\n",
        "Column=Image.split(\"x\")[-1]\n",
        "a=yes.split(\"x\")[0]\n",
        "Row=int(Row)\n",
        "Column=int(Column)\n",
        "image=np.random.rand(Row,Column)\n",
        "print(\"THIS IS THE IMAGE THAT THE MASK WILL BE APPLIED ON\")\n",
        "print(np.array(image))\n",
        "scope = int((size-1)/2)\n",
        "gaussianFilter = np.zeros((image.shape[0]-2*scope, image.shape[1]-2*scope))\n",
        "for y in range(scope, image.shape[0]-scope):\n",
        "    for x in range(scope, image.shape[1]-scope):\n",
        "        gaussianFilter[y-scope][x-scope] = np.sum(np.multiply(image[y-scope:y+scope+1, x-scope:x+scope+1], mask_k))\n",
        "print(\"THIS IS THE IMAGE AFTER THE MASK HAS BEEN APPLIED ON IT\")\n",
        "(np.array(gaussianFilter))\n",
        "\n",
        "\n"
      ],
      "execution_count": 20,
      "outputs": [
        {
          "output_type": "stream",
          "text": [
            "Please input the size of the mask Eg:5x5,3x3, other sizes? :3x3\n",
            "THIS IS THE MASK THAT WOULD BE APPLIED TO THE IMAGE\n",
            "[[0.07511361 0.1238414  0.07511361]\n",
            " [0.1238414  0.20417996 0.1238414 ]\n",
            " [0.07511361 0.1238414  0.07511361]]\n",
            "Please specify the size of the Image :5x5\n",
            "THIS IS THE IMAGE THAT THE MASK WILL BE APPLIED ON\n",
            "[[0.84863045 0.03442078 0.7818251  0.87151162 0.41999877]\n",
            " [0.15625242 0.0944267  0.44448041 0.82926766 0.84210662]\n",
            " [0.9822678  0.17808216 0.13318721 0.70220828 0.4567458 ]\n",
            " [0.46103004 0.29160186 0.96785571 0.43290368 0.30839661]\n",
            " [0.00903355 0.78378569 0.01548782 0.18343102 0.7193916 ]]\n",
            "THIS IS THE IMAGE AFTER THE MASK HAS BEEN APPLIED ON IT\n"
          ],
          "name": "stdout"
        },
        {
          "output_type": "execute_result",
          "data": {
            "text/plain": [
              "array([[0.32624755, 0.45263165, 0.65812958],\n",
              "       [0.37475861, 0.43491849, 0.56524817],\n",
              "       [0.44124127, 0.44452557, 0.45563339]])"
            ]
          },
          "metadata": {
            "tags": []
          },
          "execution_count": 20
        }
      ]
    }
  ]
}
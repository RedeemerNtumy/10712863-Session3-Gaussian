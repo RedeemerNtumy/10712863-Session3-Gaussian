{
 "cells": [
  {
   "cell_type": "code",
   "execution_count": 1,
   "metadata": {},
   "outputs": [],
   "source": [
    "import numpy as np\n",
    "import math\n",
    "def generate_kernel(size):\n",
    "    '''\n",
    "    This function generates a gaussian kernel.In this code,the σ has been set default to 1 so we only specify the size of the kernel\n",
    "    size= Size of kernel.3x3 or 5x5 or 7x7?\n",
    "    '''\n",
    "    kernel =  np.fromfunction(lambda x, y: (1/(2*math.pi*1**2)) * math.e ** ((-1*((x-(size-1)/2)**2+(y-(size-1)/2)**2))/(2*1**2)), (size, size))\n",
    "    return kernel / np.sum(kernel)"
   ]
  },
  {
   "cell_type": "code",
   "execution_count": 2,
   "metadata": {},
   "outputs": [],
   "source": [
    "def gaussianFilter(img,kernel_size):\n",
    "    kernel = generate_kernel(kernel_size)\n",
    "    d = int((kernel_size-1)/2)\n",
    "    gaussian = np.zeros((img.shape[0]-2*d, img.shape[1]-2*d))\n",
    "    for y in range(d, img.shape[0]-d):\n",
    "        for x in range(d, img.shape[1]-d):\n",
    "            gaussian[y-d][x-d] = np.sum(np.multiply(img[y-d:y+d+1, x-d:x+d+1], kernel))\n",
    "    return gaussian"
   ]
  },
  {
   "cell_type": "code",
   "execution_count": 3,
   "metadata": {},
   "outputs": [
    {
     "name": "stdout",
     "output_type": "stream",
     "text": [
      "[[0.47538147 0.47671502 0.66888073 0.43399269 0.008283   0.49077124\n",
      "  0.85322055 0.27949593 0.51267009 0.30996089]\n",
      " [0.2814984  0.33050792 0.36834353 0.26819637 0.95316901 0.83594096\n",
      "  0.9340353  0.30083564 0.98455207 0.33967953]\n",
      " [0.76264516 0.74080814 0.66884006 0.1095631  0.78994833 0.88073748\n",
      "  0.18635794 0.77710842 0.64992824 0.80306434]\n",
      " [0.94092663 0.50197031 0.81653843 0.85486615 0.23958964 0.16030684\n",
      "  0.92024411 0.93889974 0.73451266 0.27206265]\n",
      " [0.77121446 0.04658004 0.04322352 0.6950623  0.58227808 0.44096432\n",
      "  0.47722524 0.90960198 0.34241026 0.61518796]\n",
      " [0.06939595 0.81510065 0.19571811 0.45407046 0.20923414 0.4547469\n",
      "  0.57764505 0.94248847 0.89336435 0.55380031]\n",
      " [0.43232221 0.39748904 0.65150431 0.99717342 0.42286152 0.62233935\n",
      "  0.25544669 0.50533416 0.97796663 0.17147793]\n",
      " [0.92289224 0.77130844 0.6648943  0.95906936 0.68793889 0.93941369\n",
      "  0.89981355 0.60382599 0.22213216 0.84967187]\n",
      " [0.43762387 0.70590384 0.60415726 0.26497106 0.2262229  0.34251168\n",
      "  0.96979726 0.50627202 0.24307078 0.65691713]\n",
      " [0.83016202 0.46381298 0.9927155  0.3439799  0.09637881 0.07811125\n",
      "  0.70680034 0.41114558 0.4573224  0.24547743]]\n"
     ]
    }
   ],
   "source": [
    "img= np.random.rand(10, 10)\n",
    "print(img)\n",
    "#Printing some dummy values as the image"
   ]
  },
  {
   "cell_type": "code",
   "execution_count": 4,
   "metadata": {},
   "outputs": [
    {
     "data": {
      "text/plain": [
       "array([[0.49221389, 0.44729896, 0.44617207, 0.57405742, 0.71229051,\n",
       "        0.64261849, 0.59528997, 0.58729461],\n",
       "       [0.6124521 , 0.53550007, 0.52070379, 0.59083378, 0.65298683,\n",
       "        0.64094985, 0.68417416, 0.68035568],\n",
       "       [0.58634987, 0.54251815, 0.5615434 , 0.5042944 , 0.49296529,\n",
       "        0.63217445, 0.72989874, 0.65605759],\n",
       "       [0.42540298, 0.42327958, 0.49122835, 0.45967747, 0.4436402 ,\n",
       "        0.63771331, 0.75500863, 0.66369541],\n",
       "       [0.39683895, 0.44363928, 0.48011396, 0.48672704, 0.45251274,\n",
       "        0.56786378, 0.7040487 , 0.69659719],\n",
       "       [0.55102307, 0.63762747, 0.64369262, 0.60887621, 0.56209381,\n",
       "        0.59565   , 0.64219071, 0.64321231],\n",
       "       [0.65042722, 0.68323744, 0.66273759, 0.62323533, 0.64871501,\n",
       "        0.67503562, 0.57126024, 0.51478227],\n",
       "       [0.6822935 , 0.63952319, 0.50173066, 0.3928594 , 0.52365405,\n",
       "        0.65476119, 0.55098423, 0.43632456]])"
      ]
     },
     "execution_count": 4,
     "metadata": {},
     "output_type": "execute_result"
    }
   ],
   "source": [
    "gaussianFilter(img,3) # Prints the final image after the blur.Missing rows and columns have zeros\n",
    "# Now applying the 3x3 matrix to the kernel"
   ]
  },
  {
   "cell_type": "code",
   "execution_count": null,
   "metadata": {},
   "outputs": [],
   "source": []
  }
 ],
 "metadata": {
  "kernelspec": {
   "display_name": "Python 3",
   "language": "python",
   "name": "python3"
  },
  "language_info": {
   "codemirror_mode": {
    "name": "ipython",
    "version": 3
   },
   "file_extension": ".py",
   "mimetype": "text/x-python",
   "name": "python",
   "nbconvert_exporter": "python",
   "pygments_lexer": "ipython3",
   "version": "3.8.8"
  }
 },
 "nbformat": 4,
 "nbformat_minor": 4
}
